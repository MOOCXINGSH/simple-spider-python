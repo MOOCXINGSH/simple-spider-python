{
 "cells": [
  {
   "cell_type": "code",
   "execution_count": 14,
   "metadata": {},
   "outputs": [],
   "source": [
    "from bs4 import BeautifulSoup\n",
    "import requests\n",
    "\n",
    "URL = \"http://www.dili360.com/gallery/\""
   ]
  },
  {
   "cell_type": "code",
   "execution_count": 15,
   "metadata": {},
   "outputs": [],
   "source": [
    "html = requests.get(URL).text\n",
    "soup = BeautifulSoup(html, 'lxml')\n",
    "img_ul = soup.find_all('div', {\"class\": \"img\"})"
   ]
  },
  {
   "cell_type": "code",
   "execution_count": 16,
   "metadata": {},
   "outputs": [],
   "source": [
    "import os\n",
    "\n",
    "os.makedirs('./images/', exist_ok=True)"
   ]
  },
  {
   "cell_type": "code",
   "execution_count": 18,
   "metadata": {},
   "outputs": [
    {
     "name": "stdout",
     "output_type": "stream",
     "text": [
      "http://img0.dili360.com/rw5/ga/M00/4A/60/wKgBy1qo8bmAPw85AAeR_nypR7c832.tub.jpg\n",
      "Saved wKgBy1qo8bmAPw85AAeR_nypR7c832.tub.jpg\n",
      "http://img0.dili360.com/rw5/ga/M02/02/18/wKgBzFQ2x9eAbZn8AATCSQolols997.jpg\n",
      "Saved wKgBzFQ2x9eAbZn8AATCSQolols997.jpg\n",
      "http://img0.dili360.com/rw5/ga/M02/4A/3D/wKgBy1p6juaAX-JsABNa7idPrtM401.tub.jpg\n",
      "Saved wKgBy1p6juaAX-JsABNa7idPrtM401.tub.jpg\n",
      "http://img0.dili360.com/rw5/ga/M02/48/F8/wKgBzFnNuumAX_6rAAkwh6eDjkU525.tub.jpg\n",
      "Saved wKgBzFnNuumAX_6rAAkwh6eDjkU525.tub.jpg\n",
      "http://img0.dili360.com/rw5/ga/M02/34/1E/wKgBzFSzO-uAH_U2AA4XjXRrEb8657.tub.jpg\n",
      "Saved wKgBzFSzO-uAH_U2AA4XjXRrEb8657.tub.jpg\n",
      "http://img0.dili360.com/rw5/ga/M01/01/F9/wKgBzFQ2wYKAZD8DAAhfd0qgtrw550.jpg\n",
      "Saved wKgBzFQ2wYKAZD8DAAhfd0qgtrw550.jpg\n",
      "http://img0.dili360.com/rw2/ga/M02/02/D7/wKgBy1Q28byACBB4AAFk0meprII480.jpg\n",
      "Saved wKgBy1Q28byACBB4AAFk0meprII480.jpg\n",
      "http://img0.dili360.com/rw2/ga/M01/02/E5/wKgBzFQ3PamAKFjyAAmhm4OCs9k158.jpg\n",
      "Saved wKgBzFQ3PamAKFjyAAmhm4OCs9k158.jpg\n",
      "http://img0.dili360.com/rw2/ga/M00/49/C6/wKgBy1n8KeyAFvZUABGpV34kifo257.tub.jpg\n",
      "Saved wKgBy1n8KeyAFvZUABGpV34kifo257.tub.jpg\n",
      "http://img0.dili360.com/rw2/ga/M01/48/AC/wKgBzFmNZZ6AfnY3AAsokMx1XWg866.tub.jpg\n",
      "Saved wKgBzFmNZZ6AfnY3AAsokMx1XWg866.tub.jpg\n",
      "http://img0.dili360.com/rw2/ga/M02/02/B1/wKgBzFQ27A-ATp3yAATXxno9E98761.jpg\n",
      "Saved wKgBzFQ27A-ATp3yAATXxno9E98761.jpg\n",
      "http://img0.dili360.com/rw2/ga/M00/48/46/wKgBzFljTJqADYxsADZzwwKRUj0816.tub.jpg\n",
      "Saved wKgBzFljTJqADYxsADZzwwKRUj0816.tub.jpg\n",
      "http://img0.dili360.com/rw2/ga/M02/44/50/wKgBy1eppriAJO1gACWy8cG55A4558.tub.jpg\n",
      "Saved wKgBy1eppriAJO1gACWy8cG55A4558.tub.jpg\n",
      "http://img0.dili360.com/rw2/ga/M00/01/E5/wKgBzFQ2um-ACd7PAAa2w6jPYb4303.jpg\n",
      "Saved wKgBzFQ2um-ACd7PAAa2w6jPYb4303.jpg\n",
      "http://img0.dili360.com/rw2/ga/M00/47/93/wKgBzFkjoNaAO0QSABkuPUxrqyg930.tub.jpg\n",
      "Saved wKgBzFkjoNaAO0QSABkuPUxrqyg930.tub.jpg\n",
      "http://img0.dili360.com/rw2/ga/M00/41/AC/wKgBy1cMahuAEVu6ACdkTCq6POw282.tub.jpg\n",
      "Saved wKgBy1cMahuAEVu6ACdkTCq6POw282.tub.jpg\n",
      "http://img0.dili360.com/rw2/ga/M00/00/A2/wKgBzFQ2cpuAdptiAAEM8vS1CXU167.jpg\n",
      "Saved wKgBzFQ2cpuAdptiAAEM8vS1CXU167.jpg\n",
      "http://img0.dili360.com/rw2/ga/M01/00/75/wKgBy1Q2adCAFfY_AAEmzPrn_Z4122.jpg\n",
      "Saved wKgBy1Q2adCAFfY_AAEmzPrn_Z4122.jpg\n",
      "http://img0.dili360.com/rw2/ga/M00/45/C5/wKgBy1guyueAFg1vABWJTEejlTU417.tub.jpg\n",
      "Saved wKgBy1guyueAFg1vABWJTEejlTU417.tub.jpg\n",
      "http://img0.dili360.com/rw2/ga/M01/01/D4/wKgBzFQ2tO6AH3oRAAFJ2lpLXh0943.jpg\n",
      "Saved wKgBzFQ2tO6AH3oRAAFJ2lpLXh0943.jpg\n",
      "http://img0.dili360.com/rw2/ga/M00/44/7B/wKgBy1e6rimADW98AAgHMxt-j-I588.tub.jpg\n",
      "Saved wKgBy1e6rimADW98AAgHMxt-j-I588.tub.jpg\n",
      "http://img0.dili360.com/rw2/ga/M01/43/7C/wKgBzFd7KmmAPigsADPr35hzMXY476.tub.jpg\n",
      "Saved wKgBzFd7KmmAPigsADPr35hzMXY476.tub.jpg\n",
      "http://img0.dili360.com/rw2/ga/M01/43/98/wKgBy1eF-wKAcUpnAEeaQ1TSXFw523.tub.jpg\n",
      "Saved wKgBy1eF-wKAcUpnAEeaQ1TSXFw523.tub.jpg\n",
      "http://img0.dili360.com/rw2/ga/M01/00/34/wKgBy1Q2RwuAeidhAATqTnQvlzg523.jpg\n",
      "Saved wKgBy1Q2RwuAeidhAATqTnQvlzg523.jpg\n",
      "http://img0.dili360.com/rw2/ga/M01/43/4A/wKgBzFdnYPaAEsmZACS1IUAzRRw415.tub.jpg\n",
      "Saved wKgBzFdnYPaAEsmZACS1IUAzRRw415.tub.jpg\n",
      "http://img0.dili360.com/rw2/ga/M00/40/24/wKgBzFawk0yAFffcAEXNifSuv4E125.tub.jpg\n",
      "Saved wKgBzFawk0yAFffcAEXNifSuv4E125.tub.jpg\n",
      "http://img0.dili360.com/rw2/ga/M02/3C/D9/wKgBzFYAs6iAO6YsABaXNuyQjPA704.tub.jpg\n",
      "Saved wKgBzFYAs6iAO6YsABaXNuyQjPA704.tub.jpg\n",
      "http://img0.dili360.com/rw2/ga/M00/3C/DA/wKgBzFYAzWuASwTyABnS0alCHoI323.tub.jpg\n",
      "Saved wKgBzFYAzWuASwTyABnS0alCHoI323.tub.jpg\n",
      "http://img0.dili360.com/rw2/ga/M01/3C/6B/wKgBy1XtVjOAMZcpAArV44Tq5RM485.tub.jpg\n",
      "Saved wKgBy1XtVjOAMZcpAArV44Tq5RM485.tub.jpg\n",
      "http://img0.dili360.com/rw2/ga/M00/3A/FE/wKgBzFWsfZGATvOZAAprl5aLOOw352.tub.jpg\n",
      "Saved wKgBzFWsfZGATvOZAAprl5aLOOw352.tub.jpg\n"
     ]
    }
   ],
   "source": [
    "for ul in img_ul:\n",
    "    imgs = ul.find_all('img')\n",
    "    for img in imgs:\n",
    "        url = img['src']\n",
    "        print(url)\n",
    "        r = requests.get(url,stream=True)\n",
    "        image_name = url.split('/')[-1]\n",
    "        with open('./images/%s' % image_name,'wb') as f:\n",
    "            for chunk in r.iter_content(chunk_size=128):\n",
    "                f.write(chunk)\n",
    "            print('Saved %s' % image_name)\n",
    "            \n",
    "    "
   ]
  }
 ],
 "metadata": {
  "kernelspec": {
   "display_name": "Python 3",
   "language": "python",
   "name": "python3"
  },
  "language_info": {
   "codemirror_mode": {
    "name": "ipython",
    "version": 3
   },
   "file_extension": ".py",
   "mimetype": "text/x-python",
   "name": "python",
   "nbconvert_exporter": "python",
   "pygments_lexer": "ipython3",
   "version": "3.6.4"
  }
 },
 "nbformat": 4,
 "nbformat_minor": 2
}
