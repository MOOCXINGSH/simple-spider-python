{
 "cells": [
  {
   "cell_type": "code",
   "execution_count": 56,
   "metadata": {},
   "outputs": [],
   "source": [
    "from bs4 import BeautifulSoup\n",
    "from urllib.request import urlopen\n",
    "import ssl\n",
    "import re\n",
    "import random # 随机挑选网页\n",
    "ssl._create_default_https_context = ssl._create_unverified_context\n",
    "base_url = \"https://baike.baidu.com\"\n",
    "his = [\"/item/%E7%BD%91%E7%BB%9C%E7%88%AC%E8%99%AB/5162711\"]"
   ]
  },
  {
   "cell_type": "code",
   "execution_count": 57,
   "metadata": {},
   "outputs": [
    {
     "name": "stdout",
     "output_type": "stream",
     "text": [
      "网络爬虫 url: /item/%E7%BD%91%E7%BB%9C%E7%88%AC%E8%99%AB/5162711\n"
     ]
    }
   ],
   "source": [
    "# his[-1] his的最后一个\n",
    "url = base_url + his[-1]\n",
    "html = urlopen(url).read().decode('utf-8')\n",
    "soup = BeautifulSoup(html,features='lxml')\n",
    "print(soup.find('h1').get_text(),'url:',his[-1])"
   ]
  },
  {
   "cell_type": "code",
   "execution_count": 58,
   "metadata": {},
   "outputs": [
    {
     "name": "stdout",
     "output_type": "stream",
     "text": [
      "[<a href=\"/item/%E4%B8%87%E7%BB%B4%E7%BD%91\" target=\"_blank\">万维网</a>, <a href=\"/item/%E8%A0%95%E8%99%AB\" target=\"_blank\">蠕虫</a>, <a href=\"/item/%E4%B8%87%E7%BB%B4%E7%BD%91\" target=\"_blank\">万维网</a>, <a href=\"/item/%E7%BD%91%E7%BB%9C\" target=\"_blank\">网络</a>, <a href=\"/item/%E4%B8%87%E7%BB%B4%E7%BD%91\" target=\"_blank\">万维网</a>, <a href=\"/item/%E6%90%9C%E7%B4%A2%E5%BC%95%E6%93%8E\" target=\"_blank\">搜索引擎</a>, <a href=\"/item/%E9%80%9A%E7%94%A8%E6%90%9C%E7%B4%A2%E5%BC%95%E6%93%8E\" target=\"_blank\">通用搜索引擎</a>, <a href=\"/item/%E7%BD%91%E7%BB%9C%E6%95%B0%E6%8D%AE\" target=\"_blank\">网络数据</a>, <a href=\"/item/%E4%B8%87%E7%BB%B4%E7%BD%91\" target=\"_blank\">万维网</a>, <a href=\"/item/%E7%BD%91%E7%BB%9C%E6%8A%80%E6%9C%AF\" target=\"_blank\">网络技术</a>, <a href=\"/item/%E9%80%9A%E7%94%A8%E6%90%9C%E7%B4%A2%E5%BC%95%E6%93%8E\" target=\"_blank\">通用搜索引擎</a>, <a href=\"/item/%E5%85%B3%E9%94%AE%E5%AD%97\" target=\"_blank\">关键字</a>, <a href=\"/item/%E4%B8%87%E7%BB%B4%E7%BD%91\" target=\"_blank\">万维网</a>, <a href=\"/item/%E6%90%9C%E7%B4%A2%E5%BC%95%E6%93%8E\" target=\"_blank\">搜索引擎</a>, <a href=\"/item/%E6%90%9C%E7%B4%A2%E7%AD%96%E7%95%A5\" target=\"_blank\">搜索策略</a>, <a href=\"/item/%E6%8E%92%E5%BA%8F%E7%AE%97%E6%B3%95\" target=\"_blank\">排序算法</a>, <a href=\"/item/%E6%90%9C%E7%B4%A2%E5%BC%95%E6%93%8E\" target=\"_blank\">搜索引擎</a>, <a href=\"/item/%E7%BD%91%E9%A1%B5%E6%8A%93%E5%8F%96\" target=\"_blank\">网页抓取</a>, <a href=\"/item/%E7%88%AC%E8%99%AB\" target=\"_blank\">爬虫</a>, <a href=\"/item/%E5%B9%BF%E5%BA%A6%E4%BC%98%E5%85%88%E6%90%9C%E7%B4%A2\" target=\"_blank\">广度优先搜索</a>, <a href=\"/item/%E5%B9%BF%E5%BA%A6%E4%BC%98%E5%85%88%E7%AD%96%E7%95%A5\" target=\"_blank\">广度优先策略</a>, <a href=\"/item/%E6%90%9C%E7%B4%A2%E7%AE%97%E6%B3%95\" target=\"_blank\">搜索算法</a>, <a href=\"/item/%E6%B7%B1%E5%BA%A6%E4%BC%98%E5%85%88%E7%AD%96%E7%95%A5\" target=\"_blank\">深度优先策略</a>, <a href=\"/item/%E7%BD%91%E7%BB%9C%E6%8B%93%E6%89%91\" target=\"_blank\">网络拓扑</a>, <a href=\"/item/%E9%80%92%E5%BD%92\" target=\"_blank\">递归</a>, <a href=\"/item/%E4%B8%BB%E6%9C%BA\" target=\"_blank\">主机</a>, <a href=\"/item/%E9%94%9A%E6%96%87%E6%9C%AC\" target=\"_blank\">锚文本</a>, <a href=\"/item/%E7%9F%A9%E9%98%B5\" target=\"_blank\">矩阵</a>, <a href=\"/item/%E8%B6%85%E6%96%87%E6%9C%AC\" target=\"_blank\">超文本</a>, <a href=\"/item/%E5%8A%A8%E6%80%81%E9%A1%B5%E9%9D%A2\" target=\"_blank\">动态页面</a>, <a href=\"/item/%E6%96%87%E6%9C%AC%E6%A3%80%E7%B4%A2\" target=\"_blank\">文本检索</a>, <a href=\"/item/%E6%95%B0%E6%8D%AE%E6%8A%BD%E5%8F%96\" target=\"_blank\">数据抽取</a>, <a href=\"/item/%E6%95%B0%E6%8D%AE%E6%8C%96%E6%8E%98\" target=\"_blank\">数据挖掘</a>, <a href=\"/item/%E8%B6%85%E9%93%BE%E6%8E%A5\" target=\"_blank\">超链接</a>, <a href=\"/item/%E6%95%B0%E6%8D%AE%E6%BA%90\" target=\"_blank\">数据源</a>, <a href=\"/item/%E6%96%87%E6%9C%AC%E6%A3%80%E7%B4%A2\" target=\"_blank\">文本检索</a>, <a href=\"/item/%E6%96%87%E6%9C%AC%E5%88%86%E6%9E%90\" target=\"_blank\">文本分析</a>, <a href=\"/item/%E6%90%9C%E7%B4%A2%E5%BC%95%E6%93%8E\" target=\"_blank\">搜索引擎</a>, <a href=\"/item/%E5%9E%83%E5%9C%BE%E9%82%AE%E4%BB%B6\" target=\"_blank\">垃圾邮件</a>, <a href=\"/item/%E8%B6%85%E9%93%BE%E6%8E%A5\" target=\"_blank\">超链接</a>, <a href=\"/item/%E5%8A%A8%E6%80%81%E9%A1%B5%E9%9D%A2\" target=\"_blank\">动态页面</a>, <a href=\"/item/%E8%84%9A%E6%9C%AC%E8%AF%AD%E8%A8%80\" target=\"_blank\">脚本语言</a>, <a href=\"/item/%E7%88%B1%E5%BE%B7%E5%8D%8E\" target=\"_blank\">爱德华</a>, <a href=\"/item/%E6%90%9C%E7%B4%A2%E5%BC%95%E6%93%8E\" target=\"_blank\">搜索引擎</a>, <a href=\"/item/%E5%8A%B3%E4%BC%A6%E6%96%AF\" target=\"_blank\">劳伦斯</a>, <a href=\"/item/%E6%96%AF%E5%9D%A6%E7%A6%8F%E5%A4%A7%E5%AD%A6\" target=\"_blank\">斯坦福大学</a>, <a href=\"/item/%E4%B8%BB%E6%9C%BA\" target=\"_blank\">主机</a>, <a href=\"/item/%E5%B9%BF%E5%BA%A6%E4%BC%98%E5%85%88%E7%AD%96%E7%95%A5\" target=\"_blank\">广度优先策略</a>, <a href=\"/item/%E8%BF%AD%E4%BB%A3\" target=\"_blank\">迭代</a>, <a href=\"/item/%E9%9A%8F%E6%9C%BA%E7%A7%8D%E5%AD%90\" target=\"_blank\">随机种子</a>, <a href=\"/item/%E9%94%9A%E7%82%B9\" target=\"_blank\">锚点</a>, <a href=\"/item/%E8%B6%85%E6%96%87%E6%9C%AC\" target=\"_blank\">超文本</a>, <a href=\"/item/%E8%AF%AD%E4%B9%89%E7%BD%91%E7%BB%9C\" target=\"_blank\">语义网络</a>, <a href=\"/item/%E6%90%9C%E7%B4%A2%E5%BC%95%E6%93%8E\" target=\"_blank\">搜索引擎</a>, <a href=\"/item/%E8%B7%AF%E7%94%B1%E5%99%A8\" target=\"_blank\">路由器</a>, <a href=\"/item/%E7%BD%91%E7%BB%9C%E6%9C%8D%E5%8A%A1%E5%99%A8\" target=\"_blank\">网络服务器</a>, <a href=\"/item/%E7%BD%91%E7%BB%9C%E6%9C%8D%E5%8A%A1%E5%99%A8\" target=\"_blank\">网络服务器</a>, <a href=\"/item/%E7%B3%BB%E7%BB%9F%E8%AE%BE%E8%AE%A1\" target=\"_blank\">系统设计</a>, <a href=\"/item/%E6%90%9C%E7%B4%A2%E5%BC%95%E6%93%8E\" target=\"_blank\">搜索引擎</a>, <a href=\"/item/%E6%8E%92%E5%BA%8F%E7%AE%97%E6%B3%95\" target=\"_blank\">排序算法</a>, <a href=\"/item/%E5%9E%83%E5%9C%BE%E9%82%AE%E4%BB%B6\" target=\"_blank\">垃圾邮件</a>, <a href=\"/item/%E7%94%A8%E6%88%B7%E4%BB%A3%E7%90%86\" target=\"_blank\">用户代理</a>, <a href=\"/item/%E7%BD%91%E7%BB%9C%E6%9C%8D%E5%8A%A1%E5%99%A8\" target=\"_blank\">网络服务器</a>, <a href=\"/item/%E7%BD%91%E7%BB%9C%E7%AE%A1%E7%90%86%E5%91%98\" target=\"_blank\">网络管理员</a>, <a href=\"/item/%E7%BD%91%E7%BB%9C%E7%AE%A1%E7%90%86%E5%91%98\" target=\"_blank\">网络管理员</a>, <a href=\"/item/%E7%94%A8%E6%88%B7%E6%A0%87%E8%AF%86\" target=\"_blank\">用户标识</a>, <a href=\"/item/%E5%85%A8%E6%96%87%E7%B4%A2%E5%BC%95\" target=\"_blank\">全文索引</a>, <a href=\"/item/%E7%88%AC%E8%99%AB%E7%A8%8B%E5%BA%8F\" target=\"_blank\">爬虫程序</a>, <a href=\"/item/%E6%B7%B1%E5%BA%A6%E4%BC%98%E5%85%88%E7%AD%96%E7%95%A5\" target=\"_blank\">深度优先策略</a>, <a href=\"/item/%E7%BD%91%E7%BB%9C%E6%95%B0%E6%8D%AE\" target=\"_blank\">网络数据</a>, <a href=\"/item/%E4%B8%8B%E8%BD%BD%E8%80%85\" target=\"_blank\">下载者</a>, <a href=\"/item/%E6%89%B9%E5%A4%84%E7%90%86\" target=\"_blank\">批处理</a>, <a href=\"/item/%E7%BD%91%E7%BB%9C%E6%9C%8D%E5%8A%A1%E5%99%A8\" target=\"_blank\">网络服务器</a>, <a href=\"/item/%E4%BB%A3%E7%90%86%E6%9C%8D%E5%8A%A1%E5%99%A8\" target=\"_blank\">代理服务器</a>, <a href=\"/item/%E4%B8%BB%E6%9C%BA\" target=\"_blank\">主机</a>, <a href=\"/item/%E7%BD%91%E9%A1%B5%E6%8A%93%E5%8F%96\" target=\"_blank\">网页抓取</a>, <a href=\"/item/%E6%90%9C%E7%B4%A2%E5%BC%95%E6%93%8E\" target=\"_blank\">搜索引擎</a>, <a href=\"/item/%E7%BD%91%E7%BB%9C%E6%9C%8D%E5%8A%A1%E5%99%A8\" target=\"_blank\">网络服务器</a>, <a href=\"/item/%E9%95%9C%E5%83%8F\" target=\"_blank\">镜像</a>, <a href=\"/item/%E4%BA%92%E8%81%94%E7%BD%91%E6%A1%A3%E6%A1%88%E9%A6%86\" target=\"_blank\">互联网档案馆</a>, <a href=\"/item/%E7%BD%91%E7%BB%9C%E7%AB%99%E7%82%B9\" target=\"_blank\">网络站点</a>, <a href=\"/item/%E7%A6%BB%E7%BA%BF%E8%A7%82%E7%9C%8B\" target=\"_blank\">离线观看</a>, <a href=\"/item/%E9%95%9C%E5%83%8F\" target=\"_blank\">镜像</a>, <a href=\"/item/%E6%AD%A3%E5%88%99%E8%A1%A8%E8%BE%BE%E5%BC%8F\" target=\"_blank\">正则表达式</a>, <a href=\"/item/%E6%96%AF%E5%9D%A6%E7%A6%8F\" target=\"_blank\">斯坦福</a>, <a href=\"/item/%E6%90%9C%E7%B4%A2%E5%BC%95%E6%93%8E\" target=\"_blank\">搜索引擎</a>, <a href=\"/item/%E5%9B%BE%E5%BD%A2%E7%94%A8%E6%88%B7%E7%95%8C%E9%9D%A2\" target=\"_blank\">图形用户界面</a>, <a href=\"/item/%E5%BC%80%E6%94%BE%E6%BA%90%E4%BB%A3%E7%A0%81\" target=\"_blank\">开放源代码</a>, <a href=\"/item/%E6%8D%B7%E5%85%8B\" target=\"_blank\">捷克</a>, <a href=\"/item/%E5%88%86%E5%B8%83%E5%BC%8F%E6%90%9C%E7%B4%A2%E5%BC%95%E6%93%8E\" target=\"_blank\">分布式搜索引擎</a>, <a href=\"/item/%E5%BC%80%E6%94%BE%E6%BA%90%E4%BB%A3%E7%A0%81\" target=\"_blank\">开放源代码</a>, <a href=\"/item/%E8%B6%85%E9%93%BE%E6%8E%A5\" target=\"_blank\">超链接</a>]\n"
     ]
    }
   ],
   "source": [
    "sub_urls = soup.find_all(\"a\",{\"target\":\"_blank\",\"href\":re.compile(\"/item/(%.{2})+$\")})\n",
    "print(sub_urls)"
   ]
  },
  {
   "cell_type": "code",
   "execution_count": 59,
   "metadata": {},
   "outputs": [
    {
     "name": "stdout",
     "output_type": "stream",
     "text": [
      "['/item/%E7%BD%91%E7%BB%9C%E7%88%AC%E8%99%AB/5162711', '/item/%E8%84%9A%E6%9C%AC%E8%AF%AD%E8%A8%80']\n"
     ]
    }
   ],
   "source": [
    "if len(sub_urls) != 0:\n",
    "    his.append(random.sample(sub_urls,1)[0]['href'])\n",
    "else:\n",
    "    his.pop()\n",
    "print(his)"
   ]
  },
  {
   "cell_type": "code",
   "execution_count": 60,
   "metadata": {},
   "outputs": [
    {
     "name": "stdout",
     "output_type": "stream",
     "text": [
      "0 网络爬虫     url:  /item/%E7%BD%91%E7%BB%9C%E7%88%AC%E8%99%AB/5162711\n",
      "1 宽度优先搜索     url:  /item/%E5%B9%BF%E5%BA%A6%E4%BC%98%E5%85%88%E6%90%9C%E7%B4%A2\n",
      "2 邻接表     url:  /item/%E9%82%BB%E6%8E%A5%E8%A1%A8\n",
      "3 有向图     url:  /item/%E6%9C%89%E5%90%91%E5%9B%BE\n",
      "4 路径     url:  /item/%E8%B7%AF%E5%BE%84\n",
      "5 蒙版     url:  /item/%E8%92%99%E7%89%88\n",
      "6 图层     url:  /item/%E5%9B%BE%E5%B1%82\n",
      "7 删格化     url:  /item/%E5%88%A0%E6%A0%BC%E5%8C%96\n",
      "8 图层     url:  /item/%E5%9B%BE%E5%B1%82\n",
      "9 图层菜单     url:  /item/%E5%9B%BE%E5%B1%82%E8%8F%9C%E5%8D%95\n",
      "10 合并图层     url:  /item/%E5%90%88%E5%B9%B6%E5%9B%BE%E5%B1%82\n",
      "11 软件     url:  /item/%E8%BD%AF%E4%BB%B6\n",
      "12 文档     url:  /item/%E6%96%87%E6%A1%A3\n",
      "13 数据结构     url:  /item/%E6%95%B0%E6%8D%AE%E7%BB%93%E6%9E%84\n",
      "14 前端     url:  /item/%E5%89%8D%E7%AB%AF\n",
      "15 义项     url:  /item/%E4%B9%89%E9%A1%B9\n",
      "16 葛优     url:  /item/%E8%91%9B%E4%BC%98\n",
      "17 顽主     url:  /item/%E9%A1%BD%E4%B8%BB\n",
      "18 葛优     url:  /item/%E8%91%9B%E4%BC%98\n",
      "19 离婚     url:  /item/%E7%A6%BB%E5%A9%9A\n"
     ]
    }
   ],
   "source": [
    "his = [\"/item/%E7%BD%91%E7%BB%9C%E7%88%AC%E8%99%AB/5162711\"]\n",
    "for i in range(20):\n",
    "    url = base_url + his[-1]\n",
    "\n",
    "    html = urlopen(url).read().decode('utf-8')\n",
    "    soup = BeautifulSoup(html, features='lxml')\n",
    "    print(i, soup.find('h1').get_text(), '    url: ', his[-1])\n",
    "\n",
    "    # find valid urls\n",
    "    sub_urls = soup.find_all(\"a\", {\"target\": \"_blank\", \"href\": re.compile(\"/item/(%.{2})+$\")})\n",
    "\n",
    "    if len(sub_urls) != 0:\n",
    "        # random.sample()从sub_urls中随机或许1个元素 作为返回片段 并不改变原有序列\n",
    "        # append() 在列表末尾添加新的对象\n",
    "        his.append(random.sample(sub_urls, 1)[0]['href'])\n",
    "    else:\n",
    "        # no valid sub link found\n",
    "        his.pop()\n",
    "    "
   ]
  },
  {
   "cell_type": "code",
   "execution_count": null,
   "metadata": {},
   "outputs": [],
   "source": []
  },
  {
   "cell_type": "code",
   "execution_count": null,
   "metadata": {},
   "outputs": [],
   "source": []
  },
  {
   "cell_type": "code",
   "execution_count": null,
   "metadata": {},
   "outputs": [],
   "source": []
  },
  {
   "cell_type": "code",
   "execution_count": null,
   "metadata": {},
   "outputs": [],
   "source": []
  },
  {
   "cell_type": "code",
   "execution_count": null,
   "metadata": {},
   "outputs": [],
   "source": []
  },
  {
   "cell_type": "code",
   "execution_count": null,
   "metadata": {},
   "outputs": [],
   "source": []
  },
  {
   "cell_type": "code",
   "execution_count": null,
   "metadata": {},
   "outputs": [],
   "source": []
  }
 ],
 "metadata": {
  "kernelspec": {
   "display_name": "Python 3",
   "language": "python",
   "name": "python3"
  },
  "language_info": {
   "codemirror_mode": {
    "name": "ipython",
    "version": 3
   },
   "file_extension": ".py",
   "mimetype": "text/x-python",
   "name": "python",
   "nbconvert_exporter": "python",
   "pygments_lexer": "ipython3",
   "version": "3.6.4"
  }
 },
 "nbformat": 4,
 "nbformat_minor": 2
}
