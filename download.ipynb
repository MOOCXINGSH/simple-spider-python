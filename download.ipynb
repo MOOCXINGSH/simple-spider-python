{
 "cells": [
  {
   "cell_type": "code",
   "execution_count": 3,
   "metadata": {},
   "outputs": [],
   "source": [
    "import os\n",
    "import ssl\n",
    "os.makedirs('./img/',exist_ok=True)\n",
    "ssl._create_default_https_context = ssl._create_unverified_context\n",
    "IMAGE_URL = \"https://upload.jianshu.io/admin_banners/web_images/4274/c5284959b5cd3b77e607e7398a0abc82a3eabd4e.jpg?imageMogr2/auto-orient/strip|imageView2/1/w/1250/h/540\""
   ]
  },
  {
   "cell_type": "code",
   "execution_count": 4,
   "metadata": {},
   "outputs": [
    {
     "data": {
      "text/plain": [
       "('./img/image1.png', <http.client.HTTPMessage at 0x104cfdd68>)"
      ]
     },
     "execution_count": 4,
     "metadata": {},
     "output_type": "execute_result"
    }
   ],
   "source": [
    "# 第一种下载方式\n",
    "from urllib.request import urlretrieve\n",
    "urlretrieve(IMAGE_URL,'./img/image1.png')"
   ]
  },
  {
   "cell_type": "code",
   "execution_count": 5,
   "metadata": {},
   "outputs": [],
   "source": [
    "# 第二种下载方式\n",
    "import requests\n",
    "r = requests.get(IMAGE_URL)\n",
    "with open('./img/image2.png','wb') as f:\n",
    "    f.write(r.content)"
   ]
  },
  {
   "cell_type": "code",
   "execution_count": null,
   "metadata": {},
   "outputs": [],
   "source": [
    "# 第三种下载方式  下载多少就写进去多少 之前是下载完之后再存储的\n",
    "r = requests.get(IMAGE_URL,stream=True)\n",
    "with open('./img/image3.png','wb') as if:\n",
    "    # 每次写入文件的大小\n",
    "    for chunk.in r.iter_content(chunk_size=32):\n",
    "        f.write(chunk)\n"
   ]
  }
 ],
 "metadata": {
  "kernelspec": {
   "display_name": "Python 3",
   "language": "python",
   "name": "python3"
  },
  "language_info": {
   "codemirror_mode": {
    "name": "ipython",
    "version": 3
   },
   "file_extension": ".py",
   "mimetype": "text/x-python",
   "name": "python",
   "nbconvert_exporter": "python",
   "pygments_lexer": "ipython3",
   "version": "3.6.4"
  }
 },
 "nbformat": 4,
 "nbformat_minor": 2
}
